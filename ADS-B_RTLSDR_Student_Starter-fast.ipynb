{
 "cells": [
  {
   "cell_type": "markdown",
   "id": "5b2dbe90",
   "metadata": {},
   "source": [
    "\n",
    "# ADS‑B @ 1090 MHz — RTL‑SDR Capture → Detect → Decode (Student Starter)\n",
    "\n",
    "**Goal:** Minimal, well‑commented notebook for students to process RTL‑SDR captures of ADS‑B (Mode‑S) signals.  \n",
    "**Pipeline:** IQ (CU8) → DC removal → Magnitude → (optional) oversample → Preamble detection → PPM bit slicing → CRC/PI check → Frame summary.\n",
    "\n",
    "> This notebook uses `adsb_lib_v3.py` (standalone) located next to this notebook.\n"
   ]
  },
  {
   "cell_type": "markdown",
   "id": "b694dea8",
   "metadata": {},
   "source": [
    "\n",
    "## 0. Requirements & Capture Instructions\n",
    "\n",
    "**Hardware:** RTL‑SDR (Blog v3/v4 or equivalent) + simple 1090 MHz antenna (ideally external or near a window).  \n",
    "**Software:** `rtl_sdr` (from rtl-sdr/airspy packages), Python 3, NumPy, Matplotlib.\n",
    "\n",
    "**Example capture (2.0 MS/s, 3 seconds, manual gain):**\n",
    "```bash\n",
    "rtl_sdr -f 1090000000 -s 2000000 -g 49.6 -n $((3*2000000*2)) capture_1090.cu8\n",
    "```\n",
    "- `-f 1090000000` : center frequency 1090 MHz  \n",
    "- `-s 2000000` : sample rate 2.0 MS/s (try 2.4 MS/s if stable)  \n",
    "- `-g 49.6` : tuner gain in dB (try a few values or `-g 0` for auto if supported)  \n",
    "- `-n` : number of **bytes** to record (2 per complex sample → duration × fs × 2)  \n",
    "- Output: **interleaved CU8** (I then Q), named `capture_1090.cu8`\n",
    "\n",
    "> Tip: Start with ~3–5 s to keep files small, then scale up.\n"
   ]
  },
  {
   "cell_type": "markdown",
   "id": "d925fd0f",
   "metadata": {},
   "source": [
    "\n",
    "## 1. Imports & Library Check\n",
    "This notebook prefers using the library over re‑implementing functions here.\n"
   ]
  },
  {
   "cell_type": "code",
   "execution_count": null,
   "id": "5630c2d9",
   "metadata": {},
   "outputs": [],
   "source": [
    "\n",
    "from pathlib import Path\n",
    "import numpy as np\n",
    "import matplotlib.pyplot as plt\n",
    "import importlib.util, sys\n",
    "\n",
    "# Load adsb_lib_v3.py from the same folder\n",
    "# lib_path = Path('adsb_lib_v3.py')\n",
    "# assert lib_path.exists(), \"adsb_lib_v3.py not found next to this notebook.\"\n",
    "# spec = importlib.util.spec_from_file_location('adsb_lib_v3', lib_path)\n",
    "# adsb = importlib.util.module_from_spec(spec)\n",
    "# sys.modules['adsb_lib_v3'] = adsb\n",
    "# spec.loader.exec_module(adsb)\n",
    "\n",
    "# Load the FAST library instead of adsb_lib_v3.py\n",
    "lib_path = Path('adsb_lib_v3fast.py')  # use v3fast\n",
    "spec = importlib.util.spec_from_file_location('adsb_lib_v3fast', lib_path)\n",
    "adsb = importlib.util.module_from_spec(spec)\n",
    "sys.modules['adsb_lib_v3fast'] = adsb\n",
    "spec.loader.exec_module(adsb)\n",
    "\n",
    "# Quick peek at available functions\n",
    "[name for name in dir(adsb) if not name.startswith('_')]\n"
   ]
  },
  {
   "cell_type": "markdown",
   "id": "6228a355",
   "metadata": {},
   "source": [
    "\n",
    "## 2. Configure Your Capture\n",
    "Set the path to your IQ file and core parameters.\n"
   ]
  },
  {
   "cell_type": "code",
   "execution_count": null,
   "id": "e1813899",
   "metadata": {},
   "outputs": [],
   "source": [
    "\n",
    "# ---- Student Configuration ----\n",
    "iq_path = Path('capture_1090.cu8')   # change if your filename differs\n",
    "fmt = 'cu8'                          # 'cu8' for rtl_sdr raw, or 'cf32' for float32\n",
    "fs = 2_000_000                       # sample rate used during capture (Hz)\n",
    "max_samples = 4_000_000              # limit for quick tests; set None to load all\n",
    "\n",
    "# Detection/decoding options\n",
    "up = 2            # oversampling factor (1 = off). Try 2..6 for robustness.\n",
    "min_snr = 6.0     # preamble detection threshold heuristic\n",
    "cfg = adsb.DecodeConfig(up=up, min_snr=min_snr)\n",
    "\n",
    "print(f\"Using fs={fs} Hz, up={up}, min_snr={min_snr}\")\n"
   ]
  },
  {
   "cell_type": "markdown",
   "id": "247335aa",
   "metadata": {},
   "source": [
    "\n",
    "## 3. Load → Preprocess → Detect → Decode\n",
    "This uses the convenience `quick_pipeline` to run the full chain.\n"
   ]
  },
  {
   "cell_type": "code",
   "execution_count": null,
   "id": "aaf7c04e",
   "metadata": {},
   "outputs": [],
   "source": [
    "\n",
    "# Load IQ (CU8 or CF32) and run the quick pipeline\n",
    "iq = adsb.load_iq(iq_path, fmt=fmt, fs=fs, max_samples=max_samples)\n",
    "dets, frames, mag_up, fs_up = adsb.quick_pipeline(iq, up=up, min_snr=min_snr, cfg=cfg)\n",
    "print(f\"Detections: {len(dets)} | Frames decoded (candidates): {len(frames)}\")\n"
   ]
  },
  {
   "cell_type": "markdown",
   "id": "6e33a03f",
   "metadata": {},
   "source": [
    "\n",
    "## 4. Frame Summary\n",
    "Quick look at the first few decoded frames.\n"
   ]
  },
  {
   "cell_type": "code",
   "execution_count": null,
   "id": "1a0e3976",
   "metadata": {},
   "outputs": [],
   "source": [
    "\n",
    "def icao_hex(v):\n",
    "    return f\"{v:06X}\" if v is not None else \"--\"\n",
    "\n",
    "print(\"p0\tlen\tDF\tICAO\tCRC_OK\tHEX[:28]...\")\n",
    "for fr in frames[:20]:\n",
    "    crc_str = \"?\" if fr.crc_ok is None else (\"OK\" if fr.crc_ok else \"BAD\")\n",
    "    print(f\"{fr.p0}\t{fr.length_bits}\t{fr.df if fr.df is not None else '--'}\t{icao_hex(fr.icao)}\t{crc_str}\t{fr.hex[:28]}...\")\n"
   ]
  },
  {
   "cell_type": "markdown",
   "id": "b1eb3a15",
   "metadata": {},
   "source": [
    "\n",
    "## 5. Visualize First Detection (Time Domain)\n",
    "Plot magnitude around the first detected preamble for sanity‑check.\n"
   ]
  },
  {
   "cell_type": "code",
   "execution_count": null,
   "id": "3d4900de",
   "metadata": {},
   "outputs": [],
   "source": [
    "\n",
    "if len(dets):\n",
    "    p0 = dets[0].p0\n",
    "    win = 800  # samples around preamble (at fs_up)\n",
    "    s = max(0, p0 - win//2)\n",
    "    e = min(len(mag_up), p0 + win//2)\n",
    "    x = np.arange(s, e)\n",
    "    plt.figure()\n",
    "    plt.plot(x, mag_up[s:e])\n",
    "    plt.title(f'Magnitude around preamble @ {p0} (fs_up={fs_up:.0f} Hz)')\n",
    "    plt.xlabel('Sample index')\n",
    "    plt.ylabel('Magnitude')\n",
    "    plt.grid(True)\n",
    "else:\n",
    "    print(\"No detections to plot.\")\n"
   ]
  },
  {
   "cell_type": "markdown",
   "id": "c72ab9da",
   "metadata": {},
   "source": [
    "\n",
    "## 6. Optional: Quick PSD (Frequency Domain)\n",
    "A coarse power spectral density (PSD) to check DC offset or front‑end issues.\n"
   ]
  },
  {
   "cell_type": "code",
   "execution_count": null,
   "id": "f3ce0b8e",
   "metadata": {},
   "outputs": [],
   "source": [
    "\n",
    "# Compute a simple PSD over a short slice\n",
    "N = min(1_048_576, len(iq.samples))  # up to ~1M samples\n",
    "x = iq.samples[:N] - np.mean(iq.samples[:N])\n",
    "X = np.fft.fftshift(np.fft.fft(x))\n",
    "psd = 20*np.log10(1e-9 + np.abs(X)/np.sqrt(N))\n",
    "\n",
    "freq = np.fft.fftshift(np.fft.fftfreq(N, d=1/iq.fs))\n",
    "plt.figure()\n",
    "plt.plot(freq/1e6, psd)\n",
    "plt.xlabel('Frequency (MHz) relative to center')\n",
    "plt.ylabel('PSD (dB, arbitrary)')\n",
    "plt.title('Coarse PSD of capture (centered)')\n",
    "plt.grid(True)\n"
   ]
  },
  {
   "cell_type": "markdown",
   "id": "dc4f7a10",
   "metadata": {},
   "source": [
    "\n",
    "## 7. (Optional) Synthetic Sanity Test\n",
    "Build a synthetic ADS‑B frame waveform, add noise, and run detection/decoding.\n"
   ]
  },
  {
   "cell_type": "code",
   "execution_count": null,
   "id": "dc2fa7fb",
   "metadata": {},
   "outputs": [],
   "source": [
    "\n",
    "bits = adsb.synth_adsb_bits(112)  # random 112-bit payload (no real DF/ME semantics)\n",
    "w = adsb.bits_to_ppm_wave(bits, fs=fs)          # baseband-like PPM envelope\n",
    "y = adsb.pad_and_add_noise(w, snr_db=12.0)      # add noise + padding\n",
    "mag_syn = np.abs(y).astype(np.float32)\n",
    "mag_syn_up, fs_syn_up = adsb.mag_oversample(mag_syn, fs, up=2)\n",
    "\n",
    "dets_syn = adsb.detect_preambles(mag_syn_up, fs_syn_up, min_snr=5.5, up=2)\n",
    "frames_syn = adsb.decode_frames(mag_syn_up, fs_syn_up, dets_syn, cfg=adsb.DecodeConfig(up=2, min_snr=5.5))\n",
    "print(f\"SYNTH: detections={len(dets_syn)} frames={len(frames_syn)}\")\n",
    "if frames_syn:\n",
    "    print('First hex:', adsb.bits_to_hex(frames_syn[0].bits)[:28]+'...')\n"
   ]
  },
  {
   "cell_type": "markdown",
   "id": "9fc2726e",
   "metadata": {},
   "source": [
    "\n",
    "---\n",
    "\n",
    "## 8. Troubleshooting\n",
    "- **No detections?** Try higher `-g` (gain) during capture, larger `up` (e.g., 4), or lower `min_snr` (e.g., 5.0).  \n",
    "- **Few CRC‑OK frames?** Antenna placement matters. Try near a window or use a 1090 MHz filter/LNA.  \n",
    "- **PSD shows a big spike at 0 Hz?** That’s DC offset; `dc_remove` mitigates it.\n",
    "\n",
    "## 9. Mini‑Exercises\n",
    "1. Compare results at `fs=2.0 MS/s` vs `2.4 MS/s` on the same location/time. Which gives more decodes? Why?  \n",
    "2. Sweep `min_snr` from 4.5 to 7.5 and record detections/CRC‑OK counts. Plot the trend.  \n",
    "3. Change `up` from 1→2→4. How does it impact detection robustness vs runtime?  \n",
    "4. Parse DF=17 frames only and histogram the top 10 ICAO addresses received during a 2‑minute capture.\n",
    "\n",
    "> Remember to **explain observations**: link them to SNR, bandwidth, multipath, and front‑end gain.\n"
   ]
  }
 ],
 "metadata": {
  "language_info": {
   "name": "python"
  }
 },
 "nbformat": 4,
 "nbformat_minor": 5
}
